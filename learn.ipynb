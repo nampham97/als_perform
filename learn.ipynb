{
 "cells": [
  {
   "cell_type": "code",
   "execution_count": 2,
   "metadata": {},
   "outputs": [
    {
     "name": "stdout",
     "output_type": "stream",
     "text": [
      "{'object': 'list', 'data': [{'id': 'gemma-7b-it', 'object': 'model', 'created': 1693721698, 'owned_by': 'Google', 'active': True, 'context_window': 8192}, {'id': 'llama3-70b-8192', 'object': 'model', 'created': 1693721698, 'owned_by': 'Meta', 'active': True, 'context_window': 8192}, {'id': 'llama3-8b-8192', 'object': 'model', 'created': 1693721698, 'owned_by': 'Meta', 'active': True, 'context_window': 8192}, {'id': 'mixtral-8x7b-32768', 'object': 'model', 'created': 1693721698, 'owned_by': 'Mistral AI', 'active': True, 'context_window': 32768}]}\n"
     ]
    }
   ],
   "source": [
    "import requests\n",
    "import os\n",
    "\n",
    "api_key = os.environ.get(\"GROQ_API_KEY\")\n",
    "url = \"https://api.groq.com/openai/v1/models\"\n",
    "\n",
    "headers = {\n",
    "    \"Authorization\": f\"Bearer {api_key}\",\n",
    "    \"Content-Type\": \"application/json\"\n",
    "}\n",
    "\n",
    "response = requests.get(url, headers=headers)\n",
    "\n",
    "print(response.json())"
   ]
  },
  {
   "cell_type": "code",
   "execution_count": 9,
   "metadata": {},
   "outputs": [
    {
     "name": "stdout",
     "output_type": "stream",
     "text": [
      "Waiting connect to Oracle Database...\n",
      "cursor: <oracledb.Cursor on <oracledb.Connection to LOS_2019@10.53.130.153:1521/rlos>>\n",
      "Có lỗi tại truy vấn thông tin. Vui lòng kiểm tra lại...\n",
      "ORA-00933: SQL command not properly ended\n",
      "Help: https://docs.oracle.com/error-help/db/ora-00933/\n"
     ]
    }
   ],
   "source": [
    "import oracledb\n",
    "import requests\n",
    "import json\n",
    "import csv\n",
    "import openpyxl\n",
    "from cryptography.hazmat.primitives.kdf import pbkdf2\n",
    "import tkinter as tk\n",
    "from tkinter import filedialog\n",
    "from openpyxl.formula import Tokenizer\n",
    "import datetime\n",
    "import random\n",
    "\n",
    "def actionDB_INSERT(connection : oracledb.Connection):\n",
    "    cursor = connection.cursor()\n",
    "    print('cursor:', cursor)\n",
    "    try:\n",
    "        cursor.execute(\"SELECT * FROM LN_CREDIT_APPROVAL\")\n",
    "\n",
    "        # Lấy kết quả query\n",
    "        results = cursor.fetchall()\n",
    "\n",
    "        # In kết quả query\n",
    "        for row in results:\n",
    "            print(row)\n",
    "\n",
    "        # Đóng kết nối\n",
    "        cursor.close()\n",
    "        connection.close()\n",
    "    except Exception as exDB:\n",
    "        print(\"Có lỗi tại truy vấn thông tin. Vui lòng kiểm tra lại...\")\n",
    "        print(exDB)\n",
    "        cursor.close()\n",
    "        connection.close()\n",
    "\n",
    "def connectDB(user_db, pass_db, dsn_db) -> oracledb.Connection:\n",
    "    print(\"Waiting connect to Oracle Database...\")\n",
    "    return oracledb.connect(\n",
    "        user=user_db,\n",
    "        password=pass_db,\n",
    "        dsn=dsn_db)\n",
    "dsn = f\"{\"10.53.130.153\"}:{\"1521\"}/{\"rlos\"}\"\n",
    "connection = connectDB(\"LOS_2019\", \"P4ssw0rd\", dsn)\n",
    "actionDB_INSERT(connection)"
   ]
  }
 ],
 "metadata": {
  "kernelspec": {
   "display_name": ".venv",
   "language": "python",
   "name": "python3"
  },
  "language_info": {
   "codemirror_mode": {
    "name": "ipython",
    "version": 3
   },
   "file_extension": ".py",
   "mimetype": "text/x-python",
   "name": "python",
   "nbconvert_exporter": "python",
   "pygments_lexer": "ipython3",
   "version": "3.12.3"
  }
 },
 "nbformat": 4,
 "nbformat_minor": 2
}
